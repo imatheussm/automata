{
 "cells": [
  {
   "cell_type": "markdown",
   "metadata": {},
   "source": [
    "# `automata`"
   ]
  },
  {
   "cell_type": "markdown",
   "metadata": {},
   "source": [
    "This notebook shall give a quick notion about how to use the `automata` module, in addition to serve as a testing ground, since it will test all automata seen during class."
   ]
  },
  {
   "cell_type": "markdown",
   "metadata": {},
   "source": [
    "## Requirements"
   ]
  },
  {
   "cell_type": "markdown",
   "metadata": {},
   "source": [
    "First of all, we must add the `automata` module to `PATH` in order to import it. The following commands should do it:"
   ]
  },
  {
   "cell_type": "code",
   "execution_count": 1,
   "metadata": {},
   "outputs": [],
   "source": [
    "from os import getcwd\n",
    "from sys import path as sys_path\n",
    "sys_path.append(getcwd())\n",
    "from automata import *"
   ]
  },
  {
   "cell_type": "markdown",
   "metadata": {},
   "source": [
    "## Deterministic Finite Automaton (DFA)"
   ]
  },
  {
   "cell_type": "markdown",
   "metadata": {},
   "source": [
    "### Sample 1"
   ]
  },
  {
   "cell_type": "code",
   "execution_count": 2,
   "metadata": {},
   "outputs": [
    {
     "data": {
      "text/plain": [
       "<automata.dfa.deterministicFiniteAutomaton object>\n",
       "  Automaton: ({0, 1}, {q0, q1}, δ, q0, {q0})\n",
       "Transitions:    \u000eδ   |  0   |  1   \n",
       "                q0  | {q1} | {q0} \n",
       "                q1  | {q0} | {q1} "
      ]
     },
     "execution_count": 2,
     "metadata": {},
     "output_type": "execute_result"
    }
   ],
   "source": [
    "dfa1 = deterministicFiniteAutomaton(from_txt(\"./dfa/dfa1.txt\"))\n",
    "dfa1"
   ]
  },
  {
   "cell_type": "code",
   "execution_count": 3,
   "metadata": {},
   "outputs": [
    {
     "name": "stdout",
     "output_type": "stream",
     "text": [
      "[LINE 102] Current state (s): q0\n",
      "[LINE 178] Executing \u000eδ({q0}, 0)\n",
      "\n",
      "[LINE 184] Remaining symbols to be processed: 100\n",
      "\n",
      "[LINE 102] Current state (s): q1\n",
      "[LINE 178] Executing \u000eδ({q1}, 1)\n",
      "\n",
      "[LINE 184] Remaining symbols to be processed: 00\n",
      "\n",
      "[LINE 102] Current state (s): q1\n",
      "[LINE 178] Executing \u000eδ({q1}, 0)\n",
      "\n",
      "[LINE 184] Remaining symbols to be processed: 0\n",
      "\n",
      "[LINE 102] Current state (s): q0\n",
      "[LINE 178] Executing \u000eδ({q0}, 0)\n",
      "\n",
      "\n",
      "[LINE 187] Final states found: q1\n",
      "\n",
      "[LINE 193] q1 is not final.\n",
      "\n",
      "[LINE 197] The word has not been accepted. The function returns "
     ]
    },
    {
     "data": {
      "text/plain": [
       "False"
      ]
     },
     "execution_count": 3,
     "metadata": {},
     "output_type": "execute_result"
    }
   ],
   "source": [
    "dfa1.process_word(\"0100\",True)"
   ]
  },
  {
   "cell_type": "markdown",
   "metadata": {},
   "source": [
    "### Sample 2"
   ]
  },
  {
   "cell_type": "code",
   "execution_count": 4,
   "metadata": {},
   "outputs": [
    {
     "data": {
      "text/plain": [
       "<automata.dfa.deterministicFiniteAutomaton object>\n",
       "  Automaton: ({a, b}, {q0, q1, q2, qf}, δ, q0, {qf})\n",
       "Transitions:    \u000eδ   |  a   |  b   \n",
       "                q0  | {q1} | {q2} \n",
       "                q1  | {qf} | {q2} \n",
       "                q2  | {q1} | {qf} \n",
       "                qf  | {qf} | {qf} "
      ]
     },
     "execution_count": 4,
     "metadata": {},
     "output_type": "execute_result"
    }
   ],
   "source": [
    "dfa2 = deterministicFiniteAutomaton(from_txt(\"./dfa/dfa2.txt\"))\n",
    "dfa2"
   ]
  },
  {
   "cell_type": "code",
   "execution_count": 5,
   "metadata": {},
   "outputs": [
    {
     "name": "stdout",
     "output_type": "stream",
     "text": [
      "[LINE 102] Current state (s): q0\n",
      "[LINE 178] Executing \u000eδ({q0}, b)\n",
      "\n",
      "[LINE 184] Remaining symbols to be processed: abaab\n",
      "\n",
      "[LINE 102] Current state (s): q2\n",
      "[LINE 178] Executing \u000eδ({q2}, a)\n",
      "\n",
      "[LINE 184] Remaining symbols to be processed: baab\n",
      "\n",
      "[LINE 102] Current state (s): q1\n",
      "[LINE 178] Executing \u000eδ({q1}, b)\n",
      "\n",
      "[LINE 184] Remaining symbols to be processed: aab\n",
      "\n",
      "[LINE 102] Current state (s): q2\n",
      "[LINE 178] Executing \u000eδ({q2}, a)\n",
      "\n",
      "[LINE 184] Remaining symbols to be processed: ab\n",
      "\n",
      "[LINE 102] Current state (s): q1\n",
      "[LINE 178] Executing \u000eδ({q1}, a)\n",
      "\n",
      "[LINE 184] Remaining symbols to be processed: b\n",
      "\n",
      "[LINE 102] Current state (s): qf\n",
      "[LINE 178] Executing \u000eδ({qf}, b)\n",
      "\n",
      "\n",
      "[LINE 187] Final states found: qf\n",
      "\n",
      "[LINE 190] qf is final.\n",
      "\n",
      "[LINE 195] The word has been accepted. The function returns "
     ]
    },
    {
     "data": {
      "text/plain": [
       "True"
      ]
     },
     "execution_count": 5,
     "metadata": {},
     "output_type": "execute_result"
    }
   ],
   "source": [
    "dfa2.process_word(\"babaab\",True)"
   ]
  },
  {
   "cell_type": "markdown",
   "metadata": {},
   "source": [
    "## Nondeterministic Finite Automaton (NFA)"
   ]
  },
  {
   "cell_type": "markdown",
   "metadata": {},
   "source": [
    "### Sample 1"
   ]
  },
  {
   "cell_type": "code",
   "execution_count": 6,
   "metadata": {},
   "outputs": [
    {
     "data": {
      "text/plain": [
       "<automata.nfa.nondeterministicFiniteAutomaton object>\n",
       "  Automaton: ({a, b}, {q0, q1, q2, qf}, δ, q0, {qf})\n",
       "Transitions:      \u000eδ     |    a     |    b     \n",
       "                  q0    | {q0, q1} | {q0, q2} \n",
       "                  q1    |   {qf}   |    ε     \n",
       "                  q2    |    ε     |   {qf}   \n",
       "                  qf    |   {qf}   |   {qf}   "
      ]
     },
     "execution_count": 6,
     "metadata": {},
     "output_type": "execute_result"
    }
   ],
   "source": [
    "nfa1 = nondeterministicFiniteAutomaton(from_txt(\"./nfa/nfa1.txt\"))\n",
    "nfa1"
   ]
  },
  {
   "cell_type": "code",
   "execution_count": 7,
   "metadata": {},
   "outputs": [
    {
     "name": "stdout",
     "output_type": "stream",
     "text": [
      "[LINE 102] Current state (s): q0\n",
      "[LINE 178] Executing \u000eδ({q0}, a)\n",
      "\n",
      "[LINE 184] Remaining symbols to be processed: baa\n",
      "\n",
      "[LINE 102] Current state (s): q0, q1\n",
      "[LINE 178] Executing \u000eδ({q0}, b)\n",
      "\n",
      "[LINE 178] Executing \u000eδ({q1}, b)\n",
      "\n",
      "[LINE 184] Remaining symbols to be processed: aa\n",
      "\n",
      "[LINE 102] Current state (s): q0, q2\n",
      "[LINE 178] Executing \u000eδ({q0}, a)\n",
      "\n",
      "[LINE 178] Executing \u000eδ({q2}, a)\n",
      "\n",
      "[LINE 184] Remaining symbols to be processed: a\n",
      "\n",
      "[LINE 102] Current state (s): q0, q1\n",
      "[LINE 178] Executing \u000eδ({q0}, a)\n",
      "\n",
      "[LINE 178] Executing \u000eδ({q1}, a)\n",
      "\n",
      "\n",
      "[LINE 187] Final states found: q0, q1, qf\n",
      "\n",
      "[LINE 193] q0 is not final.\n",
      "[LINE 193] q1 is not final.\n",
      "[LINE 190] qf is final.\n",
      "\n",
      "[LINE 195] The word has been accepted. The function returns "
     ]
    },
    {
     "data": {
      "text/plain": [
       "True"
      ]
     },
     "execution_count": 7,
     "metadata": {},
     "output_type": "execute_result"
    }
   ],
   "source": [
    "nfa1.process_word(\"abaa\",True)"
   ]
  },
  {
   "cell_type": "code",
   "execution_count": 8,
   "metadata": {},
   "outputs": [
    {
     "name": "stdout",
     "output_type": "stream",
     "text": [
      "[LINE 102] Current state (s): q0\n",
      "[LINE 178] Executing \u000eδ({q0}, b)\n",
      "\n",
      "[LINE 184] Remaining symbols to be processed: bab\n",
      "\n",
      "[LINE 102] Current state (s): q0, q2\n",
      "[LINE 178] Executing \u000eδ({q0}, b)\n",
      "\n",
      "[LINE 178] Executing \u000eδ({q2}, b)\n",
      "\n",
      "[LINE 184] Remaining symbols to be processed: ab\n",
      "\n",
      "[LINE 102] Current state (s): q0, q2, qf\n",
      "[LINE 178] Executing \u000eδ({q0}, a)\n",
      "\n",
      "[LINE 178] Executing \u000eδ({q2}, a)\n",
      "\n",
      "[LINE 178] Executing \u000eδ({qf}, a)\n",
      "\n",
      "[LINE 184] Remaining symbols to be processed: b\n",
      "\n",
      "[LINE 102] Current state (s): q0, q1, qf\n",
      "[LINE 178] Executing \u000eδ({q0}, b)\n",
      "\n",
      "[LINE 178] Executing \u000eδ({q1}, b)\n",
      "\n",
      "[LINE 178] Executing \u000eδ({qf}, b)\n",
      "\n",
      "\n",
      "[LINE 187] Final states found: q0, q2, qf\n",
      "\n",
      "[LINE 193] q0 is not final.\n",
      "[LINE 193] q2 is not final.\n",
      "[LINE 190] qf is final.\n",
      "\n",
      "[LINE 195] The word has been accepted. The function returns "
     ]
    },
    {
     "data": {
      "text/plain": [
       "True"
      ]
     },
     "execution_count": 8,
     "metadata": {},
     "output_type": "execute_result"
    }
   ],
   "source": [
    "nfa1.process_word(\"bbab\",True)"
   ]
  },
  {
   "cell_type": "markdown",
   "metadata": {},
   "source": [
    "## Nondeterministic Finite Automaton with ε-moves (NFAE)"
   ]
  },
  {
   "cell_type": "markdown",
   "metadata": {},
   "source": [
    "### Sample 1"
   ]
  },
  {
   "cell_type": "code",
   "execution_count": 9,
   "metadata": {},
   "outputs": [
    {
     "data": {
      "text/plain": [
       "<automata.nfae.nondeterministicFiniteAutomatonWithEMoves object>\n",
       "  Automaton: ({a, b}, {q0, qf}, δ, q0, {qf})\n",
       "Transitions:    \u000eδ   |  a   |  b   |  ε   \n",
       "                q0  | {q0} |  ε   | {qf} \n",
       "                qf  |  ε   | {qf} |  ε   "
      ]
     },
     "execution_count": 9,
     "metadata": {},
     "output_type": "execute_result"
    }
   ],
   "source": [
    "nfae1 = nondeterministicFiniteAutomatonWithEMoves(from_txt(\"./nfae/nfae1.txt\"))\n",
    "nfae1"
   ]
  },
  {
   "cell_type": "code",
   "execution_count": 10,
   "metadata": {},
   "outputs": [
    {
     "name": "stdout",
     "output_type": "stream",
     "text": [
      "[LINE 102] Current state (s): q0\n",
      "[LINE 171] This state has the empty transition. All possibilities shall be tested.\n",
      "[LINE 172] Executing \u000eδ({q0}, ε) and δ({qf}, a)\n",
      "[LINE 175] Executing \u000eδ({q0}, a) and δ({q0}, ε)\n",
      "[LINE 178] Executing \u000eδ({q0}, a)\n",
      "\n",
      "[LINE 184] Remaining symbols to be processed: abb\n",
      "\n",
      "[LINE 102] Current state (s): q0, qf\n",
      "[LINE 171] This state has the empty transition. All possibilities shall be tested.\n",
      "[LINE 172] Executing \u000eδ({q0}, ε) and δ({qf}, a)\n",
      "[LINE 175] Executing \u000eδ({q0}, a) and δ({q0}, ε)\n",
      "[LINE 178] Executing \u000eδ({q0}, a)\n",
      "\n",
      "[LINE 178] Executing \u000eδ({qf}, a)\n",
      "\n",
      "[LINE 184] Remaining symbols to be processed: bb\n",
      "\n",
      "[LINE 102] Current state (s): q0, qf\n",
      "[LINE 171] This state has the empty transition. All possibilities shall be tested.\n",
      "[LINE 172] Executing \u000eδ({q0}, ε) and δ({qf}, b)\n",
      "[LINE 175] Executing \u000eδ({q0}, b) and δ({on}, ε)\n",
      "[LINE 178] Executing \u000eδ({q0}, b)\n",
      "\n",
      "[LINE 178] Executing \u000eδ({qf}, b)\n",
      "\n",
      "[LINE 184] Remaining symbols to be processed: b\n",
      "\n",
      "[LINE 102] Current state (s): qf\n",
      "[LINE 178] Executing \u000eδ({qf}, b)\n",
      "\n",
      "\n",
      "[LINE 187] Final states found: qf\n",
      "\n",
      "[LINE 190] qf is final.\n",
      "\n",
      "[LINE 195] The word has been accepted. The function returns "
     ]
    },
    {
     "data": {
      "text/plain": [
       "True"
      ]
     },
     "execution_count": 10,
     "metadata": {},
     "output_type": "execute_result"
    }
   ],
   "source": [
    "nfae1.process_word(\"aabb\",True)"
   ]
  },
  {
   "cell_type": "code",
   "execution_count": 11,
   "metadata": {},
   "outputs": [
    {
     "name": "stdout",
     "output_type": "stream",
     "text": [
      "[LINE 102] Current state (s): q0\n",
      "[LINE 171] This state has the empty transition. All possibilities shall be tested.\n",
      "[LINE 172] Executing \u000eδ({q0}, ε) and δ({qf}, a)\n",
      "[LINE 175] Executing \u000eδ({q0}, a) and δ({q0}, ε)\n",
      "[LINE 178] Executing \u000eδ({q0}, a)\n",
      "\n",
      "[LINE 184] Remaining symbols to be processed: bab\n",
      "\n",
      "[LINE 102] Current state (s): q0, qf\n",
      "[LINE 171] This state has the empty transition. All possibilities shall be tested.\n",
      "[LINE 172] Executing \u000eδ({q0}, ε) and δ({qf}, b)\n",
      "[LINE 175] Executing \u000eδ({q0}, b) and δ({on}, ε)\n",
      "[LINE 178] Executing \u000eδ({q0}, b)\n",
      "\n",
      "[LINE 178] Executing \u000eδ({qf}, b)\n",
      "\n",
      "[LINE 184] Remaining symbols to be processed: ab\n",
      "\n",
      "[LINE 102] Current state (s): qf\n",
      "[LINE 178] Executing \u000eδ({qf}, a)\n",
      "\n",
      "[LINE 184] Remaining symbols to be processed: b\n",
      "\n",
      "[LINE 102] Current state (s): \n",
      "\n",
      "[LINE 187] Final states found: \n",
      "\n",
      "\n",
      "[LINE 197] The word has not been accepted. The function returns "
     ]
    },
    {
     "data": {
      "text/plain": [
       "False"
      ]
     },
     "execution_count": 11,
     "metadata": {},
     "output_type": "execute_result"
    }
   ],
   "source": [
    "nfae1.process_word(\"abab\",True)"
   ]
  },
  {
   "cell_type": "markdown",
   "metadata": {},
   "source": [
    "### Sample 2"
   ]
  },
  {
   "cell_type": "code",
   "execution_count": 12,
   "metadata": {},
   "outputs": [
    {
     "data": {
      "text/plain": [
       "<automata.nfae.nondeterministicFiniteAutomatonWithEMoves object>\n",
       "  Automaton: ({a, b, c}, {q0, q1, q2, q3, q4, q5, q6, qf}, δ, q0, {qf})\n",
       "Transitions:        \u000eδ       |      a       |      b       |      c       |      ε       \n",
       "                    q0      |     {q0}     |     {q0}     |     {q0}     | {q1, q2, q4} \n",
       "                    q1      |     {qf}     |      ε       |      ε       |      ε       \n",
       "                    q2      |      ε       |     {q3}     |      ε       |      ε       \n",
       "                    q3      |      ε       |     {qf}     |      ε       |      ε       \n",
       "                    q4      |      ε       |      ε       |     {q5}     |      ε       \n",
       "                    q5      |      ε       |      ε       |     {q6}     |      ε       \n",
       "                    q6      |      ε       |      ε       |     {qf}     |      ε       \n",
       "                    qf      |      ε       |      ε       |      ε       |      ε       "
      ]
     },
     "execution_count": 12,
     "metadata": {},
     "output_type": "execute_result"
    }
   ],
   "source": [
    "nfae2 = nondeterministicFiniteAutomatonWithEMoves(from_txt(\"./nfae/nfae2.txt\"))\n",
    "nfae2"
   ]
  },
  {
   "cell_type": "code",
   "execution_count": 13,
   "metadata": {},
   "outputs": [
    {
     "name": "stdout",
     "output_type": "stream",
     "text": [
      "[LINE 102] Current state (s): q0\n",
      "[LINE 171] This state has the empty transition. All possibilities shall be tested.\n",
      "[LINE 172] Executing \u000eδ({q0}, ε) and δ({q1, q2, q4}, a)\n",
      "[LINE 175] Executing \u000eδ({q0}, a) and δ({q0}, ε)\n",
      "[LINE 178] Executing \u000eδ({q0}, a)\n",
      "\n",
      "[LINE 184] Remaining symbols to be processed: bb\n",
      "\n",
      "[LINE 102] Current state (s): q0, q1, q2, q4, qf\n",
      "[LINE 171] This state has the empty transition. All possibilities shall be tested.\n",
      "[LINE 172] Executing \u000eδ({q0}, ε) and δ({q1, q2, q4}, b)\n",
      "[LINE 175] Executing \u000eδ({q0}, b) and δ({q0}, ε)\n",
      "[LINE 178] Executing \u000eδ({q0}, b)\n",
      "\n",
      "[LINE 178] Executing \u000eδ({q1}, b)\n",
      "\n",
      "[LINE 178] Executing \u000eδ({q2}, b)\n",
      "\n",
      "[LINE 178] Executing \u000eδ({q4}, b)\n",
      "\n",
      "[LINE 178] Executing \u000eδ({qf}, b)\n",
      "\n",
      "[LINE 184] Remaining symbols to be processed: b\n",
      "\n",
      "[LINE 102] Current state (s): q0, q1, q2, q3, q4\n",
      "[LINE 171] This state has the empty transition. All possibilities shall be tested.\n",
      "[LINE 172] Executing \u000eδ({q0}, ε) and δ({q1, q2, q4}, b)\n",
      "[LINE 175] Executing \u000eδ({q0}, b) and δ({q0}, ε)\n",
      "[LINE 178] Executing \u000eδ({q0}, b)\n",
      "\n",
      "[LINE 178] Executing \u000eδ({q1}, b)\n",
      "\n",
      "[LINE 178] Executing \u000eδ({q2}, b)\n",
      "\n",
      "[LINE 178] Executing \u000eδ({q3}, b)\n",
      "\n",
      "[LINE 178] Executing \u000eδ({q4}, b)\n",
      "\n",
      "\n",
      "[LINE 187] Final states found: q0, q1, q2, q3, q4, qf\n",
      "\n",
      "[LINE 193] q0 is not final.\n",
      "[LINE 193] q1 is not final.\n",
      "[LINE 193] q2 is not final.\n",
      "[LINE 193] q3 is not final.\n",
      "[LINE 193] q4 is not final.\n",
      "[LINE 190] qf is final.\n",
      "\n",
      "[LINE 195] The word has been accepted. The function returns "
     ]
    },
    {
     "data": {
      "text/plain": [
       "True"
      ]
     },
     "execution_count": 13,
     "metadata": {},
     "output_type": "execute_result"
    }
   ],
   "source": [
    "nfae2.process_word(\"abb\",True)"
   ]
  },
  {
   "cell_type": "code",
   "execution_count": 14,
   "metadata": {},
   "outputs": [
    {
     "name": "stdout",
     "output_type": "stream",
     "text": [
      "[LINE 102] Current state (s): q0\n",
      "[LINE 171] This state has the empty transition. All possibilities shall be tested.\n",
      "[LINE 172] Executing \u000eδ({q0}, ε) and δ({q1, q2, q4}, c)\n",
      "[LINE 175] Executing \u000eδ({q0}, c) and δ({q0}, ε)\n",
      "[LINE 178] Executing \u000eδ({q0}, c)\n",
      "\n",
      "[LINE 184] Remaining symbols to be processed: cc\n",
      "\n",
      "[LINE 102] Current state (s): q0, q1, q2, q4, q5\n",
      "[LINE 171] This state has the empty transition. All possibilities shall be tested.\n",
      "[LINE 172] Executing \u000eδ({q0}, ε) and δ({q1, q2, q4}, c)\n",
      "[LINE 175] Executing \u000eδ({q0}, c) and δ({q0}, ε)\n",
      "[LINE 178] Executing \u000eδ({q0}, c)\n",
      "\n",
      "[LINE 178] Executing \u000eδ({q1}, c)\n",
      "\n",
      "[LINE 178] Executing \u000eδ({q2}, c)\n",
      "\n",
      "[LINE 178] Executing \u000eδ({q4}, c)\n",
      "\n",
      "[LINE 178] Executing \u000eδ({q5}, c)\n",
      "\n",
      "[LINE 184] Remaining symbols to be processed: c\n",
      "\n",
      "[LINE 102] Current state (s): q0, q1, q2, q4, q5, q6\n",
      "[LINE 171] This state has the empty transition. All possibilities shall be tested.\n",
      "[LINE 172] Executing \u000eδ({q0}, ε) and δ({q1, q2, q4}, c)\n",
      "[LINE 175] Executing \u000eδ({q0}, c) and δ({q0}, ε)\n",
      "[LINE 178] Executing \u000eδ({q0}, c)\n",
      "\n",
      "[LINE 178] Executing \u000eδ({q1}, c)\n",
      "\n",
      "[LINE 178] Executing \u000eδ({q2}, c)\n",
      "\n",
      "[LINE 178] Executing \u000eδ({q4}, c)\n",
      "\n",
      "[LINE 178] Executing \u000eδ({q5}, c)\n",
      "\n",
      "[LINE 178] Executing \u000eδ({q6}, c)\n",
      "\n",
      "\n",
      "[LINE 187] Final states found: q0, q1, q2, q4, q5, q6, qf\n",
      "\n",
      "[LINE 193] q0 is not final.\n",
      "[LINE 193] q1 is not final.\n",
      "[LINE 193] q2 is not final.\n",
      "[LINE 193] q4 is not final.\n",
      "[LINE 193] q5 is not final.\n",
      "[LINE 193] q6 is not final.\n",
      "[LINE 190] qf is final.\n",
      "\n",
      "[LINE 195] The word has been accepted. The function returns "
     ]
    },
    {
     "data": {
      "text/plain": [
       "True"
      ]
     },
     "execution_count": 14,
     "metadata": {},
     "output_type": "execute_result"
    }
   ],
   "source": [
    "nfae2.process_word(\"ccc\",True)"
   ]
  },
  {
   "cell_type": "markdown",
   "metadata": {},
   "source": [
    "## Finite Pushdown Automaton (FPA)"
   ]
  },
  {
   "cell_type": "markdown",
   "metadata": {},
   "source": [
    "### Sample 1"
   ]
  },
  {
   "cell_type": "code",
   "execution_count": 15,
   "metadata": {},
   "outputs": [
    {
     "data": {
      "text/plain": [
       "<automata.fpa.finitePushdownAutomaton object>\n",
       "  Automaton: ({a, b}, {q0, q1, q2, q3}, δ, q0, {q3}, {A, B})\n",
       "Transitions:      \u000eδ     |    a     |    b     |    ?     |    Γ     \n",
       "                  q0    | {q1, A}  |    ε     |    ε     |    A     \n",
       "                        |    ε     | {q2, B}  |    ε     |    B     \n",
       "                        |    ε     |    ε     |    ε     |    ?     \n",
       "                  q1    | {qf, ε}  |    ε     |    ε     |    A     \n",
       "                        |    ε     | {q2, ε}  |    ε     |    B     \n",
       "                        |    ε     |    ε     |    ε     |    ?     \n",
       "                  q2    |    ε     |    ε     |    ε     |    A     \n",
       "                        |    ε     |    ε     |    ε     |    B     \n",
       "                        |    ε     |    ε     | {q3, ε}  |    ?     \n",
       "                  q3    |    ε     |    ε     |    ε     |    A     \n",
       "                        |    ε     |    ε     |    ε     |    B     \n",
       "                        |    ε     |    ε     |    ε     |    ?     "
      ]
     },
     "execution_count": 15,
     "metadata": {},
     "output_type": "execute_result"
    }
   ],
   "source": [
    "fpa1 = finitePushdownAutomaton(from_txt(\"./fpa/fpa1.txt\"))\n",
    "fpa1"
   ]
  },
  {
   "cell_type": "code",
   "execution_count": 16,
   "metadata": {},
   "outputs": [
    {
     "name": "stdout",
     "output_type": "stream",
     "text": [
      "[LINE 147] current_state: q0 | current_stack: ε | word: aabb\n",
      "\n",
      "\n",
      "[LINE 149] Attempting to process δ(q0, ε, ε). Result: None\n",
      "[LINE 161] Attempting to process δ(q0, a, ε). Result: None\n",
      "[LINE 182] After processing the symbol \"a\", the results are as follows:\n",
      "\n",
      "STATE | STACK\n",
      "\n",
      "---\n",
      "\n",
      "[LINE 182] After processing the symbol \"a\", the results are as follows:\n",
      "\n",
      "STATE | STACK\n",
      "\n",
      "---\n",
      "\n",
      "[LINE 182] After processing the symbol \"b\", the results are as follows:\n",
      "\n",
      "STATE | STACK\n",
      "\n",
      "---\n",
      "\n",
      "[LINE 182] After processing the symbol \"b\", the results are as follows:\n",
      "\n",
      "STATE | STACK\n",
      "\n",
      "---\n",
      "\n",
      "[LINE 191] The word has been entirely processed.\n",
      "\n",
      "\n",
      "[LINE 201] The function returns "
     ]
    },
    {
     "data": {
      "text/plain": [
       "False"
      ]
     },
     "execution_count": 16,
     "metadata": {},
     "output_type": "execute_result"
    }
   ],
   "source": [
    "fpa1.process_word(\"aabb\",True) # ERRADO (SARAIVA)!"
   ]
  },
  {
   "cell_type": "code",
   "execution_count": 17,
   "metadata": {},
   "outputs": [
    {
     "data": {
      "text/plain": [
       "<automata.fpa.finitePushdownAutomaton object>\n",
       "  Automaton: ({a, b}, {q0, q1, qf}, δ, q0, {qf}, {B})\n",
       "Transitions:      \u000eδ     |    a     |    b     |    ?     |    Γ     \n",
       "                  q0    |    ε     | {q1, ε}  |    ε     |    B     \n",
       "                        |    ε     |    ε     | {qf, ε}  |    ?     \n",
       "                        | {q0, B}  |    ε     |    ε     |    ε     \n",
       "                  q1    |    ε     | {q1, ε}  |    ε     |    B     \n",
       "                        |    ε     |    ε     | {qf, ε}  |    ?     \n",
       "                        |    ε     |    ε     |    ε     |    ε     \n",
       "                  qf    |    ε     |    ε     |    ε     |    B     \n",
       "                        |    ε     |    ε     |    ε     |    ?     \n",
       "                        |    ε     |    ε     |    ε     |    ε     "
      ]
     },
     "execution_count": 17,
     "metadata": {},
     "output_type": "execute_result"
    }
   ],
   "source": [
    "fpa2 = finitePushdownAutomaton(from_txt(\"./fpa/fpa2.txt\"))\n",
    "fpa2"
   ]
  },
  {
   "cell_type": "code",
   "execution_count": 18,
   "metadata": {},
   "outputs": [
    {
     "name": "stdout",
     "output_type": "stream",
     "text": [
      "[LINE 147] current_state: q0 | current_stack: ε | word: aabba\n",
      "\n",
      "\n",
      "[LINE 149] Attempting to process δ(q0, ε, ε). Result: None\n",
      "[LINE 161] Attempting to process δ(q0, a, ε). Result: ('q0', 'B')\n",
      "[LINE 182] After processing the symbol \"a\", the results are as follows:\n",
      "\n",
      "STATE | STACK\n",
      "   q0 | B\n",
      "\n",
      "---\n",
      "\n",
      "[LINE 147] current_state: q0 | current_stack: B | word: abba\n",
      "\n",
      "\n",
      "[LINE 149] Attempting to process δ(q0, ε, ε). Result: None\n",
      "[LINE 161] Attempting to process δ(q0, a, ε). Result: ('q0', 'BB')\n",
      "[LINE 167] Attempting to process δ(q0, ε, B). Result: None\n",
      "[LINE 178] Attempting to process δ(q0, a, B). Result: None\n",
      "[LINE 182] After processing the symbol \"a\", the results are as follows:\n",
      "\n",
      "STATE | STACK\n",
      "   q0 | BB\n",
      "\n",
      "---\n",
      "\n",
      "[LINE 147] current_state: q0 | current_stack: BB | word: bba\n",
      "\n",
      "\n",
      "[LINE 149] Attempting to process δ(q0, ε, ε). Result: None\n",
      "[LINE 161] Attempting to process δ(q0, b, ε). Result: None\n",
      "[LINE 167] Attempting to process δ(q0, ε, B). Result: None\n",
      "[LINE 178] Attempting to process δ(q0, b, B). Result: ('q1', 'B')\n",
      "[LINE 182] After processing the symbol \"b\", the results are as follows:\n",
      "\n",
      "STATE | STACK\n",
      "   q1 | B\n",
      "\n",
      "---\n",
      "\n",
      "[LINE 147] current_state: q1 | current_stack: B | word: ba\n",
      "\n",
      "\n",
      "[LINE 149] Attempting to process δ(q1, ε, ε). Result: None\n",
      "[LINE 161] Attempting to process δ(q1, b, ε). Result: None\n",
      "[LINE 167] Attempting to process δ(q1, ε, B). Result: None\n",
      "[LINE 178] Attempting to process δ(q1, b, B). Result: ('q1', '')\n",
      "[LINE 182] After processing the symbol \"b\", the results are as follows:\n",
      "\n",
      "STATE | STACK\n",
      "   q1 | ε\n",
      "\n",
      "---\n",
      "\n",
      "[LINE 147] current_state: q1 | current_stack: ε | word: a\n",
      "\n",
      "\n",
      "[LINE 149] Attempting to process δ(q1, ε, ε). Result: None\n",
      "[LINE 161] Attempting to process δ(q1, a, ε). Result: None\n",
      "[LINE 182] After processing the symbol \"a\", the results are as follows:\n",
      "\n",
      "STATE | STACK\n",
      "\n",
      "---\n",
      "\n",
      "[LINE 191] The word has been entirely processed.\n",
      "\n",
      "\n",
      "[LINE 201] The function returns "
     ]
    },
    {
     "data": {
      "text/plain": [
       "False"
      ]
     },
     "execution_count": 18,
     "metadata": {},
     "output_type": "execute_result"
    }
   ],
   "source": [
    "fpa2.process_word(\"aabba\",True)"
   ]
  }
 ],
 "metadata": {
  "kernelspec": {
   "display_name": "Python 3",
   "language": "python",
   "name": "python3"
  },
  "language_info": {
   "codemirror_mode": {
    "name": "ipython",
    "version": 3
   },
   "file_extension": ".py",
   "mimetype": "text/x-python",
   "name": "python",
   "nbconvert_exporter": "python",
   "pygments_lexer": "ipython3",
   "version": "3.7.3"
  }
 },
 "nbformat": 4,
 "nbformat_minor": 2
}
